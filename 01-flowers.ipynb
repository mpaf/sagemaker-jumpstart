{
 "cells": [
  {
   "cell_type": "code",
   "execution_count": null,
   "id": "7392638c-0b63-48c6-bf0b-b94e7a9ff830",
   "metadata": {},
   "outputs": [],
   "source": [
    "import sagemaker\n",
    "from sagemaker.predictor import Predictor\n",
    "from sagemaker.serializers import DataSerializer\n",
    "from sagemaker.deserializers import JSONDeserializer\n",
    "from io import BytesIO"
   ]
  },
  {
   "cell_type": "code",
   "execution_count": null,
   "id": "4f74b312-67c4-4bd8-afe2-73c8210a3872",
   "metadata": {},
   "outputs": [],
   "source": [
    "from urllib.request import urlopen\n",
    "from PIL import Image\n",
    "\n",
    "bytes_ = urlopen(\"https://encrypted-tbn0.gstatic.com/images?q=tbn:ANd9GcSKLdPageeR3ghFeY04VD05sRDv6I1i_mzn1bdEmWXBxw&s\")\n",
    "img_ = bytes_.read()\n",
    "img = Image.open(BytesIO(img_))\n",
    "img"
   ]
  },
  {
   "cell_type": "code",
   "execution_count": null,
   "id": "93790f44-1624-4441-b9eb-2da5f2ec5aa5",
   "metadata": {},
   "outputs": [],
   "source": [
    "pred = Predictor(endpoint_name=<insert_endpoint_name>\")\n",
    "pred.serializer = DataSerializer(content_type=\"application/x-image\")\n",
    "pred.deserializer = JSONDeserializer(accept=\"application/json;verbose\")"
   ]
  },
  {
   "cell_type": "code",
   "execution_count": null,
   "id": "2d45e38f-224a-4132-a991-865ce769f641",
   "metadata": {},
   "outputs": [],
   "source": [
    "pred.predict(img_)"
   ]
  }
 ],
 "metadata": {
  "kernelspec": {
   "display_name": "Python 3 (ipykernel)",
   "language": "python",
   "name": "python3"
  },
  "language_info": {
   "codemirror_mode": {
    "name": "ipython",
    "version": 3
   },
   "file_extension": ".py",
   "mimetype": "text/x-python",
   "name": "python",
   "nbconvert_exporter": "python",
   "pygments_lexer": "ipython3",
   "version": "3.10.14"
  }
 },
 "nbformat": 4,
 "nbformat_minor": 5
}
