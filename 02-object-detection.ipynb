{
 "cells": [
  {
   "cell_type": "markdown",
   "id": "e67ff898-bc27-46b1-8a3d-42bc85964dc9",
   "metadata": {},
   "source": [
    "## Use Transformer-based Object Detection Model locally"
   ]
  },
  {
   "cell_type": "code",
   "execution_count": null,
   "id": "143b111d-ec9a-4926-a4e7-43eb0e1e338c",
   "metadata": {},
   "outputs": [],
   "source": [
    "from transformers import pipeline\n",
    "from PIL import Image, ImageDraw\n",
    "import requests\n",
    "\n",
    "obj_detector = pipeline(\"object-detection\", model=\"facebook/detr-resnet-50\")\n"
   ]
  },
  {
   "cell_type": "code",
   "execution_count": null,
   "id": "10507271-572f-4bd2-b148-d32dd4229a6b",
   "metadata": {},
   "outputs": [],
   "source": [
    "img_url = \"http://images.cocodataset.org/val2017/000000039769.jpg\"\n",
    "image = Image.open(requests.get(img_url, stream=True).raw)\n",
    "image"
   ]
  },
  {
   "cell_type": "code",
   "execution_count": null,
   "id": "31ab306e-01a8-45a1-a1fe-de5bfbed8442",
   "metadata": {},
   "outputs": [],
   "source": [
    "results = obj_detector(img_url)"
   ]
  },
  {
   "cell_type": "code",
   "execution_count": null,
   "id": "04f28aca-d64a-49ea-9562-a6af95a0e4ba",
   "metadata": {},
   "outputs": [],
   "source": [
    "results"
   ]
  },
  {
   "cell_type": "code",
   "execution_count": null,
   "id": "312f40b8-3dbd-4fb0-b973-c3e273147b69",
   "metadata": {},
   "outputs": [],
   "source": [
    "from PIL import Image, ImageDraw \n",
    "\n",
    "draw = ImageDraw.Draw(image)\n",
    "\n",
    "for result in results:\n",
    "    print(result['box'])\n",
    "    draw.rectangle(list(result['box'].values()), outline =\"red\")\n",
    "    draw.text(text=result['label'], xy=list(result['box'].values()))"
   ]
  },
  {
   "cell_type": "code",
   "execution_count": null,
   "id": "8c3ed8da-6ec9-43f8-9a38-0f46c1da9437",
   "metadata": {},
   "outputs": [],
   "source": [
    "image"
   ]
  },
  {
   "cell_type": "markdown",
   "id": "ca817f8d-0b03-4990-baf0-167dd242db4b",
   "metadata": {},
   "source": [
    "## Deploy to SageMaker Endpoint\n",
    "\n",
    "Let's deploy a similar, but smaller model directly to a SageMaker endpoint - https://huggingface.co/hustvl/yolos-tiny"
   ]
  },
  {
   "cell_type": "code",
   "execution_count": null,
   "id": "bc70a8be-00a9-4ab5-9a6b-75b95de0a25f",
   "metadata": {},
   "outputs": [],
   "source": [
    "import sagemaker\n",
    "from sagemaker.huggingface.model import HuggingFaceModel\n",
    "\n",
    "role = sagemaker.get_execution_role()\n",
    "\n",
    "HF_MODEL_ID = \"hustvl/yolos-tiny\"\n",
    "\n",
    "hub = {\n",
    "    \"HF_MODEL_ID\": HF_MODEL_ID,\n",
    "    \"HF_TASK\": \"object-detection\",\n",
    "}\n",
    "\n",
    "# creating SageMaker Model\n",
    "huggingface_model = HuggingFaceModel(\n",
    "    name='yolos-tiny',\n",
    "    transformers_version=\"4.37\",\n",
    "    pytorch_version=\"2.1\",\n",
    "    py_version=\"py310\",\n",
    "    env=hub,\n",
    "    role=role,\n",
    ")\n",
    "\n",
    "predictor = huggingface_model.deploy(\n",
    "    instance_type='ml.g5.xlarge',\n",
    "    initial_instance_count=1,\n",
    "    endpoint_name='yolos-tiny',\n",
    "    role=role,\n",
    "    tags={},\n",
    "    model_data_download_timeout=3600,\n",
    "    container_startup_health_check_timeout=1200,\n",
    ")"
   ]
  },
  {
   "cell_type": "markdown",
   "id": "bbc2cbe6",
   "metadata": {},
   "source": [
    "### Run Predictions"
   ]
  },
  {
   "cell_type": "code",
   "execution_count": null,
   "id": "ad740a93",
   "metadata": {},
   "outputs": [],
   "source": [
    "predictor.predict({\"inputs\": \"http://images.cocodataset.org/val2017/000000039769.jpg\"})"
   ]
  }
 ],
 "metadata": {
  "kernelspec": {
   "display_name": "Python 3 (ipykernel)",
   "language": "python",
   "name": "python3"
  },
  "language_info": {
   "codemirror_mode": {
    "name": "ipython",
    "version": 3
   },
   "file_extension": ".py",
   "mimetype": "text/x-python",
   "name": "python",
   "nbconvert_exporter": "python",
   "pygments_lexer": "ipython3",
   "version": "3.12.1"
  }
 },
 "nbformat": 4,
 "nbformat_minor": 5
}
